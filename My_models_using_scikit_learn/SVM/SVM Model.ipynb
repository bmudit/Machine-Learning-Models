{
 "cells": [
  {
   "cell_type": "code",
   "execution_count": 10,
   "metadata": {},
   "outputs": [],
   "source": [
    "# importing libraries\n",
    "import numpy as np\n",
    "import pandas as pd\n",
    "from sklearn import datasets\n",
    "from sklearn.model_selection import train_test_split\n",
    "from sklearn import svm\n",
    "from sklearn.metrics import accuracy_score\n",
    "\n",
    "#load dataset\n",
    "iris = datasets.load_iris()\n",
    "\n",
    "#spliting the data into features and labels\n",
    "X = iris.data\n",
    "y = iris.target\n",
    "\n",
    "classes = [\"Iris Setosa\", \"Iris Versicolor\", \"Iris Virginica\"]\n",
    "\n",
    "#seperating training and testing sets\n",
    "X_train,X_test,y_train,y_test = train_test_split(X,y,test_size=0.2)\n",
    "\n",
    "#create model\n",
    "model = svm.SVC()\n",
    "\n",
    "#training the model\n",
    "model.fit(X_train, y_train)\n",
    "\n",
    "#calculating predictions and accuracy\n",
    "predictions = model.predict(X_test)\n",
    "accuracy = accuracy_score(y_test, predictions)\n"
   ]
  },
  {
   "cell_type": "code",
   "execution_count": 12,
   "metadata": {},
   "outputs": [
    {
     "name": "stdout",
     "output_type": "stream",
     "text": [
      "prediction:2, original:2\n",
      "prediction:1, original:2\n",
      "prediction:0, original:0\n",
      "prediction:2, original:2\n",
      "prediction:2, original:2\n",
      "prediction:1, original:1\n",
      "prediction:0, original:0\n",
      "prediction:1, original:1\n",
      "prediction:0, original:0\n",
      "prediction:2, original:2\n",
      "prediction:0, original:0\n",
      "prediction:1, original:1\n",
      "prediction:0, original:0\n",
      "prediction:1, original:1\n",
      "prediction:0, original:0\n",
      "prediction:0, original:0\n",
      "prediction:0, original:0\n",
      "prediction:0, original:0\n",
      "prediction:0, original:0\n",
      "prediction:1, original:1\n",
      "prediction:1, original:1\n",
      "prediction:0, original:0\n",
      "prediction:0, original:0\n",
      "prediction:0, original:0\n",
      "prediction:2, original:2\n",
      "prediction:0, original:0\n",
      "prediction:1, original:1\n",
      "prediction:1, original:1\n",
      "prediction:0, original:0\n",
      "prediction:0, original:0\n"
     ]
    }
   ],
   "source": [
    "#printing the prediction and actual values\n",
    "for i in range(len(predictions)):\n",
    "    print(f\"prediction:{predictions[i]}, original:{y_test[i]}\")"
   ]
  },
  {
   "cell_type": "code",
   "execution_count": 13,
   "metadata": {},
   "outputs": [
    {
     "name": "stdout",
     "output_type": "stream",
     "text": [
      "0.9666666666666667\n"
     ]
    }
   ],
   "source": [
    "#printing accuracy \n",
    "print(accuracy)"
   ]
  },
  {
   "cell_type": "code",
   "execution_count": null,
   "metadata": {},
   "outputs": [],
   "source": []
  }
 ],
 "metadata": {
  "kernelspec": {
   "display_name": "Python 3",
   "language": "python",
   "name": "python3"
  },
  "language_info": {
   "codemirror_mode": {
    "name": "ipython",
    "version": 3
   },
   "file_extension": ".py",
   "mimetype": "text/x-python",
   "name": "python",
   "nbconvert_exporter": "python",
   "pygments_lexer": "ipython3",
   "version": "3.7.6"
  }
 },
 "nbformat": 4,
 "nbformat_minor": 4
}
